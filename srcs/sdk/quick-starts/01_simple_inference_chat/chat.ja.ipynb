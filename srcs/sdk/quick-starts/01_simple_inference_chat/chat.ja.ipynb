{
 "cells": [
  {
   "cell_type": "markdown",
   "metadata": {},
   "source": [
    "# クイックスタート1\n",
    "\n",
    "## 概要：Azure AI Foundry SDK を使用して Python で簡単なチャット アプリを構築する\n",
    "\n",
    "このノートのクイックスタートでは、Azure AI Foundry SDK を使用してローカル開発環境を設定する方法について説明します。\n",
    "Python アプリのコードの一部として記述したプロンプトで LLM を呼び出して、LLM の出力を評価を実行します。\n",
    "\n",
    "このクイックスタートは、2025年2月時点での Microsoft の Azure AI Foundry の[ドキュメント](https://learn.microsoft.com/ja-jp/azure/ai-studio/quickstarts/get-started-code)に記載されている内容になります。\n",
    "\n",
    "※仕様やドキュメントの変更に伴い、この内容が古くなる可能性があります。"
   ]
  },
  {
   "cell_type": "markdown",
   "metadata": {},
   "source": [
    "## 準備\n",
    "\n",
    "このクイック スタートを始める前に、[Azure AI Foundry プレイグラウンドのクイックスタート](https://learn.microsoft.com/ja-jp/azure/ai-studio/quickstarts/get-started-playground)を完了して、Azure AI Foundry のハブとプロジェクトを作成して `gpt-4o-mini` モデルをプロジェクトへデプロイしてください。\n",
    "\n",
    "VSCode でこの Jupyter Notebook を開き、ワークスペースに Python 仮想環境を作成します。\n",
    "仮想環境を作成する際には、このフォルダにある `requirements.txt` を選択すると、アプリの実行に必要なライブラリを Python 仮想環境にインストールします。\n",
    "仮想環境の準備ができたら、このノートにある Python アプリのコードをステップごとに実行します。"
   ]
  },
  {
   "cell_type": "markdown",
   "metadata": {},
   "source": [
    "### チャットアプリのコードサンプル"
   ]
  },
  {
   "cell_type": "markdown",
   "metadata": {},
   "source": [
    "1. Azure AI Foundry SDK の Python ライブラリを読み込みます。"
   ]
  },
  {
   "cell_type": "code",
   "execution_count": null,
   "metadata": {},
   "outputs": [],
   "source": [
    "from azure.ai.projects import AIProjectClient\n",
    "from azure.identity import DefaultAzureCredential"
   ]
  },
  {
   "cell_type": "markdown",
   "metadata": {},
   "source": [
    "2. 環境変数ファイル (`.env`) から Azure AI Foundry プロジェクトの接続文字列と生成 AI LLM モデル名の文字列を読み込みます。`.env` ファイルがない場合は `_env` ファイルをテンプレートとして用意していますので、コピーして `.env` ファイルを作成してください。`.env` ファイルには、以下の \"**キー=値**\" のペアを記述します。\n",
    "\n",
    "- PROJECT_CONNECTION_STRING=**<AI Foundry プロジェクトの接続文字列>**\n",
    "- MODEL_NAME=**<デプロイしたLLMモデル名>**"
   ]
  },
  {
   "cell_type": "code",
   "execution_count": null,
   "metadata": {},
   "outputs": [],
   "source": [
    "import os\n",
    "from dotenv import load_dotenv\n",
    "\n",
    "load_dotenv('.env', override=True)\n",
    "project_connection_string = os.getenv('PROJECT_CONNECTION_STRING')\n",
    "model_name_string = os.getenv('MODEL_NAME')"
   ]
  },
  {
   "cell_type": "markdown",
   "metadata": {},
   "source": [
    "3. Azure AI Foundry プロジェクトクライアントを使って、プロジェクト内の生成 AI サービスに接続します。この例では、推論 API を呼び出す `chat` アプリを作成し、プロンプトと問い合わせ内容をセットして、API からの回答を取得します。\n",
    "\n",
    "  - `AIProjectClient` の `from_connection_string()` を使って、Azure AI Foundry のプロジェクトに接続します。\n",
    "  - `get_chat_completions_client()` を使って、チャットクライアント (`ChatCompletionsClient`) を作成します。\n",
    "  - システムプロンプトと質問を組み合わせて、指定した LLM モデルのチャットクライアントに問い合わせ (`complete()`) を行います。"
   ]
  },
  {
   "cell_type": "code",
   "execution_count": null,
   "metadata": {},
   "outputs": [],
   "source": [
    "project = AIProjectClient.from_connection_string(\n",
    "    conn_str=project_connection_string,\n",
    "    credential=DefaultAzureCredential()\n",
    ")"
   ]
  },
  {
   "cell_type": "code",
   "execution_count": null,
   "metadata": {},
   "outputs": [],
   "source": [
    "system_prompt_message = \"あなたは 2350 年のテクノ パンク ロッカーのように話す AI アシスタントです。クールだけどクール過ぎない。わかりましたか??\"\n",
    "user_query_message = \"税金の手続きを手伝ってくれませんか？私はフリーランサーです。\""
   ]
  },
  {
   "cell_type": "code",
   "execution_count": null,
   "metadata": {},
   "outputs": [],
   "source": [
    "chat = project.inference.get_chat_completions_client()\n",
    "response = chat.complete(\n",
    "    model=model_name_string,\n",
    "    messages=[\n",
    "        {\n",
    "            \"role\": \"system\",\n",
    "            \"content\": system_prompt_message,\n",
    "        },\n",
    "        {\n",
    "            \"role\": \"user\",\n",
    "            \"content\": user_query_message,\n",
    "        },\n",
    "    ],\n",
    ")\n",
    "print(response.choices[0].message.content)"
   ]
  }
 ],
 "metadata": {
  "kernelspec": {
   "display_name": ".venv",
   "language": "python",
   "name": "python3"
  },
  "language_info": {
   "codemirror_mode": {
    "name": "ipython",
    "version": 3
   },
   "file_extension": ".py",
   "mimetype": "text/x-python",
   "name": "python",
   "nbconvert_exporter": "python",
   "pygments_lexer": "ipython3",
   "version": "3.13.2"
  }
 },
 "nbformat": 4,
 "nbformat_minor": 2
}
