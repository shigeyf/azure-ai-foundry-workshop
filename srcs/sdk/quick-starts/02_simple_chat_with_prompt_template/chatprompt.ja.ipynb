{
 "cells": [
  {
   "cell_type": "markdown",
   "metadata": {},
   "source": [
    "# クイックスタート2\n",
    "\n",
    "このノートのクイックスタートは、2025年2月時点での Microsoft の Azure AI Foundry の[ドキュメント](https://learn.microsoft.com/ja-jp/azure/ai-studio/quickstarts/get-started-code)に記載されている内容になります。\n",
    "\n",
    "※仕様やドキュメントの変更に伴い、この内容が古くなる可能性があります。\n"
   ]
  },
  {
   "cell_type": "markdown",
   "metadata": {},
   "source": [
    "## 前提条件\n",
    "\n",
    "このノートの内容を学習するにあたって、以下が必要になります。\n",
    "\n",
    "- Visial Studio Code または このノートブックを実行可能な Jupyter が動作する環境\n",
    "- Azure サブスクリプション\n",
    "- 作成済みの Azure AI Foundry プロジェクトとデプロイしたモデル\n",
    "- Python 3.8 以降\n",
    "- Python に関する基礎知識\n",
    "- 必要な Python パッケージ（下記のコードでインストールする）\n"
   ]
  },
  {
   "cell_type": "markdown",
   "metadata": {},
   "source": [
    "## 概要：Azure AI Foundry SDK を使用して Python で簡単なチャット アプリを構築する (2)\n",
    "\n",
    "このノートでは、Azure AI Foundry SDK を使用して、簡単なチャットアプリケーションを開発する方法について説明します。\n",
    "\n",
    "このクイックスタートでは、クイックスタート1 の続きとして、`PromptTemplate` を利用します。\n"
   ]
  },
  {
   "cell_type": "markdown",
   "metadata": {},
   "source": [
    "### 準備\n",
    "\n",
    "このクイック スタートを始める前に、Azure AI Foundry ポータルから、ハブ リソースとプロジェクト リソースを作成して `gpt-4o-mini` モデルをハブまたはプロジェクトへデプロイしてください。\n",
    "\n",
    "> [Azure AI Foundry プレイグラウンドのクイックスタート](https://learn.microsoft.com/ja-jp/azure/ai-studio/quickstarts/get-started-playground) を完了している場合、必要な作業は完了しています。\n",
    "\n",
    "Visual Studio Code でこのノートを開き、[ドキュメントのこのセクション](https://code.visualstudio.com/docs/python/environments#_creating-environments) を参考にしながら、ワークスペースに Python 仮想環境を作成します。仮想環境を作成する際には、このフォルダにある `requirements.txt` を選択すると、このノートの Python アプリケーションコードの実行に必要なライブラリを Python 仮想環境にインストールすることができます。\n",
    "\n",
    "仮想環境の準備ができたら、このノートにある Python コードをステップごとに実行します。"
   ]
  },
  {
   "cell_type": "markdown",
   "metadata": {},
   "source": [
    "### チャットアプリのコードサンプル"
   ]
  },
  {
   "cell_type": "markdown",
   "metadata": {},
   "source": [
    "#### 1. クイックスタート 1 で使ったコードを使います\n",
    "\n",
    "  - `.env` ファイルの内容を環境変数に読み込みます。\n",
    "  - `AIProjectClient` の `from_connection_string()` を使って、Azure AI Foundry プロジェクトに接続します。\n",
    "  - `get_chat_completions_client()` を使って、チャット補完クライアント `chat` (`ChatCompletionsClient` クラスのインスタンス) を作成します。\n"
   ]
  },
  {
   "cell_type": "code",
   "execution_count": null,
   "metadata": {},
   "outputs": [],
   "source": [
    "from azure.ai.projects import AIProjectClient\n",
    "from azure.identity import DefaultAzureCredential\n",
    "\n",
    "import os\n",
    "from dotenv import load_dotenv\n",
    "\n",
    "load_dotenv('.env', override=True)\n",
    "project_connection_string = os.getenv('PROJECT_CONNECTION_STRING')\n",
    "model_name_string = os.getenv('MODEL_NAME')\n",
    "\n",
    "project = AIProjectClient.from_connection_string(\n",
    "    conn_str=project_connection_string, credential=DefaultAzureCredential()\n",
    ")\n",
    "\n",
    "chat = project.inference.get_chat_completions_client()"
   ]
  },
  {
   "cell_type": "markdown",
   "metadata": {},
   "source": [
    "#### 2. プロンプト テンプレートを作成する\n",
    "\n",
    "推論モデルに問い合わせるときに利用するシステムプロンプトを、プロンプトテンプレート文字列として定義します。プロンプトテンプレートには可変項目を含めることができ、動的なプロンプトを構築できます。このプログラムでは、プロンプトテンプレートを作成して、チャットクライアントに渡します。"
   ]
  },
  {
   "cell_type": "code",
   "execution_count": null,
   "metadata": {},
   "outputs": [],
   "source": [
    "prompt_template_string=\"\"\"\n",
    "  system:\n",
    "  あなたは 2350 年のテクノ パンク ロッカーのように話す AI アシスタントです。クールに、でもクール過ぎないようにしましょう。わかりましたか??\n",
    "  ユーザーをファーストネームで呼び、ラストネームをダジャレにしてみてください。\n",
    "\n",
    "  ユーザーのファーストネームは {{first_name}}、ラストネームは {{last_name}} です\n",
    "\"\"\""
   ]
  },
  {
   "cell_type": "code",
   "execution_count": null,
   "metadata": {},
   "outputs": [],
   "source": [
    "prompt_template_string=\"\"\"\n",
    "  system:\n",
    "  あなたはグルメと旅行に詳しいコンシェルジュです。質問に対して現在の流行とその詳細な情報を付け加えて説明してください。わかりましたか??\"\n",
    "  ユーザーをラストネームに「様」を付けて呼んでください。\n",
    "\n",
    "  ユーザーのファーストネームは {{first_name}}、ラストネームは {{last_name}} です\"\n",
    "\"\"\""
   ]
  },
  {
   "cell_type": "markdown",
   "metadata": {},
   "source": [
    "### 3. 推論モデルからの回答を取得する関数を定義します\n",
    "\n",
    "`PromptTemple` の `from_string()` を使ってプロンプトテンプレートを作成します。\n",
    "プロンプトテンプレートの可変項目に対するコンテキストを受け取り、`create_message()` を使って、チャット補完クライアントに渡すシステムプロンプトを作成します。\n",
    "\n",
    "システムプロンプトと問い合わせメッセージを組み合わせて、チャット補完クライアントを使って問い合わせを行い回答を取得 (`complete()`) します。"
   ]
  },
  {
   "cell_type": "code",
   "execution_count": null,
   "metadata": {},
   "outputs": [],
   "source": [
    "from azure.ai.inference.prompts import PromptTemplate\n",
    "\n",
    "def get_chat_response(messages, context):\n",
    "    # create a prompt template from an inline string (using mustache syntax)\n",
    "    prompt_template = PromptTemplate.from_string(prompt_template_string)\n",
    "\n",
    "    # generate system message from the template, passing in the context as variables\n",
    "    system_message = prompt_template.create_messages(data=context)\n",
    "\n",
    "    # add the prompt messages to the user messages\n",
    "    return chat.complete(\n",
    "        model=model_name_string,\n",
    "        messages=system_message + messages,\n",
    "        temperature=1,\n",
    "        frequency_penalty=0.5,\n",
    "        presence_penalty=0.5,\n",
    "    )"
   ]
  },
  {
   "cell_type": "markdown",
   "metadata": {},
   "source": [
    "#### 4. 推論モデルへの質問を作成します"
   ]
  },
  {
   "cell_type": "code",
   "execution_count": null,
   "metadata": {},
   "outputs": [],
   "source": [
    "query = \"世界で一番おいしい食べ物がある都市はどこですか?\"\n",
    "context={\"first_name\": \"一郎\", \"last_name\": \"佐藤\"}"
   ]
  },
  {
   "cell_type": "code",
   "execution_count": null,
   "metadata": {},
   "outputs": [],
   "source": [
    "query = \"世界で一番綺麗な場所がある都市はどこですか?\"\n",
    "context={\"first_name\": \"五郎\", \"last_name\": \"田中\"}"
   ]
  },
  {
   "cell_type": "markdown",
   "metadata": {},
   "source": [
    "#### 5. アプリケーションを実行します\n",
    "\n",
    "`__main__` 関数を呼び出し、アプリケーションを実行します。"
   ]
  },
  {
   "cell_type": "code",
   "execution_count": null,
   "metadata": {},
   "outputs": [],
   "source": [
    "from azure.ai.inference.models import UserMessage\n",
    "\n",
    "if __name__ == \"__main__\":\n",
    "    response = get_chat_response(\n",
    "        messages=[UserMessage(content=query)],\n",
    "        context=context,\n",
    "    )\n",
    "    print(response.choices[0].message.content)\n",
    "    print(response)"
   ]
  }
 ],
 "metadata": {
  "kernelspec": {
   "display_name": ".venv",
   "language": "python",
   "name": "python3"
  },
  "language_info": {
   "codemirror_mode": {
    "name": "ipython",
    "version": 3
   },
   "file_extension": ".py",
   "mimetype": "text/x-python",
   "name": "python",
   "nbconvert_exporter": "python",
   "pygments_lexer": "ipython3",
   "version": "3.13.2"
  }
 },
 "nbformat": 4,
 "nbformat_minor": 2
}
