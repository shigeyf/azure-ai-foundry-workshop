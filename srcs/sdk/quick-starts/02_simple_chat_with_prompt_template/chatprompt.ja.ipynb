{
 "cells": [
  {
   "cell_type": "markdown",
   "metadata": {},
   "source": [
    "# クイックスタート2\n",
    "\n",
    "## 概要：Azure AI Foundry SDK を使用して Python で簡単なチャット アプリを構築する (2)\n",
    "\n",
    "このクイックスタートは、クイックスタート1に続いて、Azure AI Foundry SDK を使用してローカル開発環境を設定する方法について説明します。\n",
    "\n",
    "このクイックスタートは、2025年2月時点での Microsoft の Azure AI Foundry の[ドキュメント](https://learn.microsoft.com/ja-jp/azure/ai-studio/quickstarts/get-started-code)に記載されている内容になります。\n",
    "\n",
    "※仕様やドキュメントの変更に伴い、この内容が古くなる可能性があります。\n"
   ]
  },
  {
   "cell_type": "markdown",
   "metadata": {},
   "source": [
    "1. クイックスタート1で使ったコードを使います。\n",
    "  - `AIProjectClient` の `from_connection_string()` を使って、Azure AI Foundry のプロジェクトに接続します。\n",
    "  - `get_chat_completions_client()` を使って、チャットクライアント (`ChatCompletionsClient`) を作成します。\n",
    "  - システムプロンプトと質問を組み合わせて、指定した LLM モデルのチャットクライアントに問い合わせ (`complete()`) を行います。"
   ]
  },
  {
   "cell_type": "code",
   "execution_count": null,
   "metadata": {},
   "outputs": [],
   "source": [
    "from azure.ai.projects import AIProjectClient\n",
    "from azure.identity import DefaultAzureCredential\n",
    "from azure.ai.inference.prompts import PromptTemplate\n",
    "\n",
    "import os\n",
    "from dotenv import load_dotenv\n",
    "\n",
    "load_dotenv('.env', override=True)\n",
    "project_connection_string = os.getenv('PROJECT_CONNECTION_STRING')\n",
    "model_name_string = os.getenv('MODEL_NAME')\n",
    "\n",
    "project = AIProjectClient.from_connection_string(\n",
    "    conn_str=project_connection_string, credential=DefaultAzureCredential()\n",
    ")\n",
    "\n",
    "chat = project.inference.get_chat_completions_client()"
   ]
  },
  {
   "cell_type": "markdown",
   "metadata": {},
   "source": [
    "2. 推論APIに問い合わせるときに利用するシステムプロンプトを、プロンプトテンプレート文字列として定義します。プロンプトテンプレートには可変の項目を含めることができ、動的なプロンプトを構築できます。このプログラムでは、プロンプトテンプレートを作成して、チャットクライアントに渡します。"
   ]
  },
  {
   "cell_type": "code",
   "execution_count": null,
   "metadata": {},
   "outputs": [],
   "source": [
    "prompt_template_string=\"\"\"\n",
    "  system:\n",
    "  あなたは 2350 年のテクノ パンク ロッカーのように話す AI アシスタントです。クールに、でもクール過ぎないようにしましょう。わかりましたか? ユーザーをファーストネームで呼び、ラストネームをダジャレにしてみてください。\n",
    "\n",
    "  ユーザーのファーストネームは {{first_name}}、ラストネームは {{last_name}} です\n",
    "\"\"\""
   ]
  },
  {
   "cell_type": "markdown",
   "metadata": {},
   "source": [
    "3. 推論APIを呼び出して回答結果を得る関数を定義します。`PromptTemple` の `from_string()` API を使ってプロンプトテンプレートを作成します。この関数では、プロンプトテンプレートの可変項目をコンテキストとして受け取って、`create_message()` APIを使って、チャットクライアントに渡すシステムプロンプトを作成します。システムプロンプトと質問を組み合わせて、チャットクライアントに渡して問い合わせ (`ChatCompletionsClient complete()`) を行います。"
   ]
  },
  {
   "cell_type": "code",
   "execution_count": null,
   "metadata": {},
   "outputs": [],
   "source": [
    "def get_chat_response(messages, context):\n",
    "    # create a prompt template from an inline string (using mustache syntax)\n",
    "    prompt_template = PromptTemplate.from_string(prompt_template_string)\n",
    "\n",
    "    # generate system message from the template, passing in the context as variables\n",
    "    system_message = prompt_template.create_messages(data=context)\n",
    "\n",
    "    # add the prompt messages to the user messages\n",
    "    return chat.complete(\n",
    "        model=model_name_string,\n",
    "        messages=system_message + messages,\n",
    "        temperature=1,\n",
    "        frequency_penalty=0.5,\n",
    "        presence_penalty=0.5,\n",
    "    )"
   ]
  },
  {
   "cell_type": "markdown",
   "metadata": {},
   "source": [
    "4. 推論APIに問い合わせする質問を定義します。"
   ]
  },
  {
   "cell_type": "code",
   "execution_count": null,
   "metadata": {},
   "outputs": [],
   "source": [
    "query = \"世界で一番おいしい食べ物がある都市はどこですか?\"\n",
    "context={\"first_name\": \"一郎\", \"last_name\": \"佐藤\"}"
   ]
  },
  {
   "cell_type": "code",
   "execution_count": null,
   "metadata": {},
   "outputs": [],
   "source": [
    "query = \"世界で一番綺麗な場所がある都市はどこですか?\"\n",
    "context={\"first_name\": \"五郎\", \"last_name\": \"田中\"}"
   ]
  },
  {
   "cell_type": "markdown",
   "metadata": {},
   "source": [
    "5. `__main__` 関数を呼び出し、アプリケーションを実行します。"
   ]
  },
  {
   "cell_type": "code",
   "execution_count": null,
   "metadata": {},
   "outputs": [],
   "source": [
    "if __name__ == \"__main__\":\n",
    "    response = get_chat_response(\n",
    "        messages=[{\"role\": \"user\", \"content\": query}],\n",
    "        context=context,\n",
    "    )\n",
    "    print(response.choices[0].message.content)"
   ]
  }
 ],
 "metadata": {
  "kernelspec": {
   "display_name": ".venv",
   "language": "python",
   "name": "python3"
  },
  "language_info": {
   "codemirror_mode": {
    "name": "ipython",
    "version": 3
   },
   "file_extension": ".py",
   "mimetype": "text/x-python",
   "name": "python",
   "nbconvert_exporter": "python",
   "pygments_lexer": "ipython3",
   "version": "3.13.2"
  }
 },
 "nbformat": 4,
 "nbformat_minor": 2
}
