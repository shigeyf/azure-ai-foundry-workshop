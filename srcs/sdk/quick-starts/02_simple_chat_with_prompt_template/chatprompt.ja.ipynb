{
 "cells": [
  {
   "cell_type": "markdown",
   "metadata": {},
   "source": [
    "# クイックスタート2\n",
    "\n",
    "このノートのクイックスタートは、2025年2月時点での Microsoft の Azure AI Foundry の[ドキュメント](https://learn.microsoft.com/ja-jp/azure/ai-studio/quickstarts/get-started-code)に記載されている内容をベースに、実践的な内容に修正したものです。\n",
    "\n",
    "※仕様やドキュメントの変更に伴い、この内容が古くなる可能性があります。\n"
   ]
  },
  {
   "cell_type": "markdown",
   "metadata": {},
   "source": [
    "## 前提条件\n"
   ]
  },
  {
   "cell_type": "markdown",
   "metadata": {},
   "source": [
    "このノートの内容を学習するにあたって、以下が必要になります。\n",
    "\n",
    "- Visial Studio Code または このノートブックを実行可能な Jupyter が動作する環境\n",
    "- Azure サブスクリプション\n",
    "- 作成済みの Azure AI Foundry プロジェクトとデプロイしたモデル\n",
    "- Azure AI Foundry プロジェクトに接続済みの Application Insights インスタンス（トレースに利用） \n",
    "- Python 3.8 以降\n",
    "- Python に関する基礎知識\n",
    "- 必要な Python パッケージ（下記のコードでインストールする）\n"
   ]
  },
  {
   "cell_type": "code",
   "execution_count": null,
   "metadata": {},
   "outputs": [],
   "source": [
    "# 必要な Python パッケージのインストール\n",
    "%pip install python-dotenv azure-identity azure-ai-projects azure-ai-inference opentelemetry-sdk azure-core-tracing-opentelemetry"
   ]
  },
  {
   "cell_type": "markdown",
   "metadata": {},
   "source": [
    "## Azure AI Foundry で シンプルな AI 推論チャットアプリを開発する (続)\n"
   ]
  },
  {
   "cell_type": "markdown",
   "metadata": {},
   "source": [
    "このノートでは、Azure AI Foundry SDK を使用して、シンプルチャットアプリケーションを開発する方法について説明します。\n",
    "Python アプリケーションのコードの一部として定義したプロンプトで 推論モデル（LLM）を呼び出して、推論モデル（LLM）からの出力を評価します。\n",
    "\n",
    "このクイックスタートでは、クイックスタート1 から以下のポイントを追加したサンプルです。\n",
    "\n",
    "- `PromptTemplate` を利用して、定型のテンプレートを準備する\n",
    "- AI 推論 API のトレースを有効にする\n"
   ]
  },
  {
   "cell_type": "markdown",
   "metadata": {},
   "source": [
    "### 準備\n"
   ]
  },
  {
   "cell_type": "markdown",
   "metadata": {},
   "source": [
    "このクイック スタートを始める前に、Azure AI Foundry ポータルから、ハブ リソースとプロジェクト リソースを作成して `gpt-4o-mini` モデルをプロジェクトへデプロイしてください。\n",
    "\n",
    "> [Azure AI Foundry プレイグラウンドのクイックスタート](https://learn.microsoft.com/ja-jp/azure/ai-studio/quickstarts/get-started-playground) を完了している場合、必要な作業は完了しています。\n",
    "\n",
    "Visual Studio Code でこのノートを開き、[ドキュメントのこのセクション](https://code.visualstudio.com/docs/python/environments#_creating-environments) を参考にしながら、ワークスペースに Python 仮想環境を作成します。仮想環境を作成する際には、このフォルダにある `requirements.txt` を選択すると、このノートの Python アプリケーションコードの実行に必要なライブラリを Python 仮想環境にインストールすることができます。\n",
    "\n",
    "仮想環境の準備ができたら、このノートにある Python コードをステップごとに実行します。\n"
   ]
  },
  {
   "cell_type": "markdown",
   "metadata": {},
   "source": [
    "### チャットアプリのコードサンプル"
   ]
  },
  {
   "cell_type": "markdown",
   "metadata": {},
   "source": [
    "#### 1. AI プロジェクトに接続します\n"
   ]
  },
  {
   "cell_type": "markdown",
   "metadata": {},
   "source": [
    "チャット補完クライアントを使って問い合わせを行うための準備を行います。\n",
    "クイックスタート 1 で使ったコードを使います。\n",
    "\n",
    "  - `.env` ファイルの内容を環境変数に読み込みます。\n",
    "    - プロジェクトの接続文字列：PROJECT_CONNECTION_STRING=\"**<AI Foundry プロジェクトの接続文字列>**\"\n",
    "    - 推論モデルの名前：MODEL_NAME=\"**<デプロイしたLLMモデル名>**\"\n",
    "  - 現在のユーザーで認証するための Azure 資格情報を取得します。\n",
    "  - `AIProjectClient` の `from_connection_string()` を使って、Azure AI Foundry プロジェクトに接続します。\n"
   ]
  },
  {
   "cell_type": "code",
   "execution_count": null,
   "metadata": {},
   "outputs": [],
   "source": [
    "import os\n",
    "from dotenv import load_dotenv\n",
    "from azure.ai.projects import AIProjectClient\n",
    "from azure.identity import DefaultAzureCredential\n",
    "from opentelemetry import trace\n",
    "from azure.core.settings import settings\n",
    "\n",
    "# Enable Azure SDK tracing with either of two lines:\n",
    "# os.environ[\"AZURE_SDK_TRACING_IMPLEMENTATION\"] = \"opentelemetry\"\n",
    "# settings.tracing_implementation = \"opentelemetry\"\n",
    "tracer = trace.get_tracer(__name__)\n",
    "\n",
    "load_dotenv('.env', override=True)\n",
    "project_connection_string = os.getenv('PROJECT_CONNECTION_STRING')\n",
    "model_name_string = os.getenv('MODEL_NAME')\n",
    "\n",
    "try:\n",
    "    credential = DefaultAzureCredential()\n",
    "    print(f\"✅ Azure 資格情報の初期化が成功しました.\")\n",
    "except Exception as e:\n",
    "    print(f\"❌ Azure 資格情報の初期化が以下の理由で失敗しました: {str(e)}\")\n",
    "\n",
    "try:\n",
    "    project = AIProjectClient.from_connection_string(\n",
    "        conn_str=project_connection_string,\n",
    "        credential=credential\n",
    "    )\n",
    "    print(f\"✅ プロジェクトクライアントの初期化が成功しました.\")\n",
    "except Exception as e:\n",
    "    print(f\"❌ プロジェクトクライアントの初期化が以下の理由で失敗しました: {str(e)}\")"
   ]
  },
  {
   "cell_type": "markdown",
   "metadata": {},
   "source": [
    "プロジェクトに接続された AI サービス（チャットク補完ライアント）を初期化します。\n",
    "`get_chat_completions_client()` を使って、チャット補完クライアント `chat` (`ChatCompletionsClient` クラスのインスタンス) を作成します。\n"
   ]
  },
  {
   "cell_type": "code",
   "execution_count": null,
   "metadata": {},
   "outputs": [],
   "source": [
    "try:\n",
    "    chat = project.inference.get_chat_completions_client()\n",
    "    print(f\"✅ チャットクライアントの初期化が成功しました.\")\n",
    "except Exception as e:\n",
    "    print(f\"❌ チャットクライアントの初期化が以下の理由で失敗しました: {str(e)}\")"
   ]
  },
  {
   "cell_type": "markdown",
   "metadata": {},
   "source": [
    "#### 2. トレースを有効にします\n"
   ]
  },
  {
   "cell_type": "markdown",
   "metadata": {},
   "source": [
    "以下のコードでは、チャットアプリケーションのトレースを有効にします。\n",
    "トレースを有効にするために必要な Python ライブラリを追加します。\n",
    "\n",
    "> AI プロジェクトに Application Insights インスタンスを接続していない場合はこのセクションをスキップしてください。\n",
    "\n",
    "- `AIInferenceInstrumentor` を使って、Azure AI 推論 SDK のインストルメンテーションを有効にします。\n",
    "- `AZURE_TRACING_GEN_AI_CONTENT_RECORDING_ENABLED` 環境変数を `true` に設定して、プロンプトと応答の内容をキャプチャします。\n",
    "- Azure SDK トレースを有効にするには、`AZURE_SDK_TRACING_IMPLEMENTATION` 環境変数を `opentelemetry` に設定します。\n",
    "  または、以下のコードを追加します。\n",
    "\n",
    "    ```python\n",
    "    from azure.core.settings import settings\n",
    "    settings.tracing_implementation = \"opentelemetry\"\n",
    "    ```\n",
    "    \n",
    "- トレース情報を Azure Application Insights (Azure Monitor) に送信するには、`configure_azure_monitor()` で有効にします。\n",
    "    - ここでは Python 向けの `azure.monitor.opentelemetry` ライブラリを利用して、直接、送信（エクスポート）します。\n",
    "    - AI プロジェクトに接続された Azure Application Insights への接続文字列を取得して、`configure_azure_monitor()`に渡します。\n"
   ]
  },
  {
   "cell_type": "code",
   "execution_count": null,
   "metadata": {},
   "outputs": [],
   "source": [
    "%pip install azure-monitor-opentelemetry"
   ]
  },
  {
   "cell_type": "code",
   "execution_count": null,
   "metadata": {},
   "outputs": [],
   "source": [
    "from azure.ai.inference.tracing import AIInferenceInstrumentor\n",
    "from azure.monitor.opentelemetry import configure_azure_monitor\n",
    "\n",
    "# Enable tracing\n",
    "AIInferenceInstrumentor().instrument()\n",
    "# Enable logging AI message contents\n",
    "os.environ[\"AZURE_TRACING_GEN_AI_CONTENT_RECORDING_ENABLED\"] = \"true\"\n",
    "\n",
    "application_insights_connection_string = project.telemetry.get_connection_string()\n",
    "if not application_insights_connection_string:\n",
    "    print(\"❌ Application Insights がこのプロジェクトで有効になっていません.\")\n",
    "    print(\"==> Azure AI Foundry ポータルの \\\"トレース\\\"タブから、Application Inights を有効にしてください.\")\n",
    "else:\n",
    "    configure_azure_monitor(connection_string=application_insights_connection_string)\n",
    "    print(\"✅ Application Insights によるトレースを有効にしました.\")\n",
    "\n",
    "# project.telemetry.enable(destination=sys.stdout)"
   ]
  },
  {
   "cell_type": "markdown",
   "metadata": {},
   "source": [
    "#### 3. プロンプト テンプレートを作成します\n"
   ]
  },
  {
   "cell_type": "markdown",
   "metadata": {},
   "source": [
    "推論モデルに問い合わせるときに利用するシステムプロンプトを、プロンプトテンプレート文字列として定義します。プロンプトテンプレートには外部から挿入する可変の引数を含めることができ、動的なプロンプトを構築できます。このプログラムでは、プロンプトテンプレートを作成して、チャットクライアントに渡します。\n",
    "\n",
    "ここではサンプルとして、2種類の異なるシステムプロンプトのテンプレートを用意しています。\n",
    "\n",
    "`{{first_name}}` と `{{last_name}}` がプロンプトテンプレートの可変の引数として定義されています。"
   ]
  },
  {
   "cell_type": "code",
   "execution_count": null,
   "metadata": {},
   "outputs": [],
   "source": [
    "prompt_template_string=\"\"\"\n",
    "  system:\n",
    "  あなたは 2350 年のテクノ パンク ロッカーのように話す AI アシスタントです。クールに、でもクール過ぎないようにしましょう。わかりましたか??\n",
    "  ユーザーをファーストネームで呼び、ラストネームをダジャレにしてみてください。\n",
    "\n",
    "  ユーザーのファーストネームは {{first_name}}、ラストネームは {{last_name}} です\n",
    "\"\"\""
   ]
  },
  {
   "cell_type": "code",
   "execution_count": null,
   "metadata": {},
   "outputs": [],
   "source": [
    "prompt_template_string=\"\"\"\n",
    "  system:\n",
    "  あなたはグルメと旅行に詳しいコンシェルジュです。質問に対して現在の流行とその詳細な情報を付け加えて説明してください。わかりましたか??\n",
    "  ユーザーをラストネームに「様」を付けて呼んでください。\n",
    "\n",
    "  ユーザーのファーストネームは {{first_name}}、ラストネームは {{last_name}} です。\n",
    "\"\"\""
   ]
  },
  {
   "cell_type": "markdown",
   "metadata": {},
   "source": [
    "#### 4. 推論モデルからの回答を取得する関数を定義します\n"
   ]
  },
  {
   "cell_type": "markdown",
   "metadata": {},
   "source": [
    "`PromptTemple` の `from_string()` を使ってプロンプトテンプレートを作成します。\n",
    "プロンプトテンプレートの可変の引数のデータ (`context`) を受け取り、`create_message()` を使って、チャット補完クライアントに渡すシステムプロンプトを作成します。\n",
    "\n",
    "システムプロンプトと問い合わせメッセージを組み合わせて、チャット補完クライアントを使って問い合わせを行い回答を取得 (`complete()`) します。\n"
   ]
  },
  {
   "cell_type": "code",
   "execution_count": null,
   "metadata": {},
   "outputs": [],
   "source": [
    "from azure.ai.inference.prompts import PromptTemplate\n",
    "\n",
    "@tracer.start_as_current_span(\"quick_start_02_get_chat_response\")\n",
    "def get_chat_response(messages, context):\n",
    "    # create a prompt template from an inline string (using mustache syntax)\n",
    "    prompt_template = PromptTemplate.from_string(prompt_template_string)\n",
    "\n",
    "    # generate system message from the template, passing in the context as variables\n",
    "    system_message = prompt_template.create_messages(data=context)\n",
    "\n",
    "    # add the prompt messages to the user messages\n",
    "    return chat.complete(\n",
    "        model=model_name_string,\n",
    "        messages=system_message + messages,\n",
    "        temperature=1,\n",
    "        frequency_penalty=0.5,\n",
    "        presence_penalty=0.5,\n",
    "    )"
   ]
  },
  {
   "cell_type": "markdown",
   "metadata": {},
   "source": [
    "#### 5. 推論モデルへの質問を作成します"
   ]
  },
  {
   "cell_type": "markdown",
   "metadata": {},
   "source": [
    "ユーザーのクエリとユーザーの名前のデータを定義します。\n",
    "ここでは2つのサンプルデータを用意しましたので、どちらかを使ってください。"
   ]
  },
  {
   "cell_type": "code",
   "execution_count": null,
   "metadata": {},
   "outputs": [],
   "source": [
    "query = \"世界で一番おいしい食べ物がある都市はどこですか?\"\n",
    "context={\"first_name\": \"一郎\", \"last_name\": \"佐藤\"}"
   ]
  },
  {
   "cell_type": "code",
   "execution_count": null,
   "metadata": {},
   "outputs": [],
   "source": [
    "query = \"世界で一番綺麗な場所がある都市はどこですか?\"\n",
    "context={\"first_name\": \"五郎\", \"last_name\": \"田中\"}"
   ]
  },
  {
   "cell_type": "markdown",
   "metadata": {},
   "source": [
    "#### 6. アプリケーションを実行します\n"
   ]
  },
  {
   "cell_type": "markdown",
   "metadata": {},
   "source": [
    "`__main__` 関数を呼び出し、アプリケーションを実行します。\n"
   ]
  },
  {
   "cell_type": "code",
   "execution_count": null,
   "metadata": {},
   "outputs": [],
   "source": [
    "from azure.ai.inference.models import UserMessage\n",
    "\n",
    "if __name__ == \"__main__\":\n",
    "    response = get_chat_response(\n",
    "        messages=[UserMessage(content=query)],\n",
    "        context=context,\n",
    "    )\n",
    "    print(response.choices[0].message.content)"
   ]
  },
  {
   "cell_type": "markdown",
   "metadata": {},
   "source": [
    "チャット補完クライアントからのレスポンスの内容 (JSON) を表示します。"
   ]
  },
  {
   "cell_type": "code",
   "execution_count": null,
   "metadata": {},
   "outputs": [],
   "source": [
    "print(response)"
   ]
  }
 ],
 "metadata": {
  "kernelspec": {
   "display_name": ".venv",
   "language": "python",
   "name": "python3"
  },
  "language_info": {
   "codemirror_mode": {
    "name": "ipython",
    "version": 3
   },
   "file_extension": ".py",
   "mimetype": "text/x-python",
   "name": "python",
   "nbconvert_exporter": "python",
   "pygments_lexer": "ipython3",
   "version": "3.13.2"
  }
 },
 "nbformat": 4,
 "nbformat_minor": 2
}
