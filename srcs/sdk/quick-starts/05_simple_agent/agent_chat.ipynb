{
 "cells": [
  {
   "cell_type": "markdown",
   "metadata": {},
   "source": [
    "# クイックスタート5\n",
    "\n",
    "このノートのクイックスタートは、Microsoft の Azure AI Foundry を使って AI エージェント推論チャット アプリケーションの開発を行うための学習ノートです。\n",
    "\n",
    "※この内容は 2025年2月時点での仕様等に基づくものです。仕様やドキュメントの変更に伴い、この内容が古くなる可能性があります。"
   ]
  },
  {
   "cell_type": "markdown",
   "metadata": {},
   "source": [
    "## 前提条件"
   ]
  },
  {
   "cell_type": "markdown",
   "metadata": {},
   "source": [
    "このノートの内容を学習するにあたって、以下が必要になります。\n",
    "\n",
    "- Visial Studio Code または このノートブックを実行可能な Jupyter が動作する環境\n",
    "- Azure サブスクリプション\n",
    "- 作成済みの Azure AI Foundry プロジェクトとデプロイしたモデル\n",
    "- Azure AI Foundry プロジェクトに接続済みの Application Insights インスタンス（トレースに利用） \n",
    "- Python 3.8 以降\n",
    "- Python に関する基礎知識\n",
    "- 必要な Python パッケージ（下記のコードでインストールする）\n"
   ]
  },
  {
   "cell_type": "code",
   "execution_count": null,
   "metadata": {},
   "outputs": [],
   "source": [
    "# 必要な Python パッケージのインストール\n",
    "%pip install python-dotenv azure-identity azure-ai-projects azure-ai-inference azure-search-documents azure-core-tracing-opentelemetry azure-monitor-opentelemetry opentelemetry-sdk"
   ]
  },
  {
   "cell_type": "markdown",
   "metadata": {},
   "source": [
    "## Azure AI Foundry で シンプルな AI Agent アプリを開発する"
   ]
  },
  {
   "cell_type": "markdown",
   "metadata": {},
   "source": [
    "このノートでは、Azure AI Foundry SDK を使用して、AI エージェントを使った推論チャットアプリケーションを開発する方法について説明します。\n",
    "\n",
    "Azure AI Foundry では、エージェントを実行するための Azure AI Agent Service と呼ばれるプラットフォームを提供します。Azure AI Agent Service は、エージェントの実行に必要となるコンピューティングおよびストレージのリソースを開発者が管理する必要がなく、高品質で拡張可能な AI エージェントを安全にビルド、デプロイ、スケーリングできるように設計されたフル マネージド サービスです。 \n",
    "\n",
    "これまでの一般的な AI アプリケーションでは、クライアント側の関数呼び出しをサポートするために何百行ものコードを必要としていましたが、Azure AI Agent Service を使用することで、数行のコードで実行できるようになります。\n",
    "\n",
    "AI Agent Service では、様々なツールを割り当てて推論モデルを使ってエージェントを実行することができます。\n",
    "\n",
    "- ナレッジ ツール\n",
    "    - Bing 検索を使用したグラウンディング （[コード例](https://learn.microsoft.com/ja-jp/azure/ai-services/agents/how-to/tools/bing-grounding?tabs=python&pivots=code-example)）\n",
    "    - ファイル検索 （[コード例](https://learn.microsoft.com/ja-jp/azure/ai-services/agents/how-to/tools/file-search?tabs=python&pivots=azure-blob-storage-code-examples)）\n",
    "    - Azure AI Search （[コード例](https://learn.microsoft.com/ja-jp/azure/ai-services/agents/how-to/tools/azure-ai-search?tabs=azurecli%2Cpython&pivots=code-examples)）\n",
    "- アクション ツール\n",
    "    - コードインタープリター （[コード例](https://learn.microsoft.com/ja-jp/azure/ai-services/agents/how-to/tools/code-interpreter?tabs=python&pivots=overview)）\n",
    "    - 独自の関数 （[コード例](https://learn.microsoft.com/ja-jp/azure/ai-services/agents/how-to/tools/function-calling?tabs=python&pivots=code-example)）\n",
    "    - Azure Functions （[コード例](https://learn.microsoft.com/ja-jp/azure/ai-services/agents/how-to/tools/azure-functions?pivots=code-example)）\n",
    "    - OpenAPI で定義された API ツール （[コード例](https://learn.microsoft.com/ja-jp/azure/ai-services/agents/how-to/tools/openapi-spec?tabs=python&pivots=code-example)）\n",
    "\n",
    "\n",
    "> **注意**\n",
    "> \"Bing 検索を使用したグラウンディング\" で対応している OpenAI モデルは以下のモデルです：\n",
    "> gpt-3.5-turbo-0125、gpt-4-0125-preview、gpt-4-turbo-2024-04-09、gpt-4o-0513\n",
    "\n",
    "このサンプルコードでは、コードインタープリターを使ったエージェントを開発します。\n"
   ]
  },
  {
   "cell_type": "markdown",
   "metadata": {},
   "source": [
    "### 準備"
   ]
  },
  {
   "cell_type": "markdown",
   "metadata": {},
   "source": [
    "このクイック スタートを始める前に、Azure AI Foundry ポータルから、ハブ リソースとプロジェクト リソースを作成して `gpt-4o` または `gpt-4o-mini` モデルをプロジェクトへデプロイしてください。\n",
    "\n",
    "エージェントをサポートするモデルには制限があります。[技術ドキュメント](https://learn.microsoft.com/ja-jp/azure/ai-services/agents/concepts/model-region-support?tabs=python) を参照して、適切なモデルとバージョンのエージェントをデプロイします。\n",
    "\n",
    "> [Azure AI Foundry プレイグラウンドのクイックスタート](https://learn.microsoft.com/ja-jp/azure/ai-studio/quickstarts/get-started-playground) を完了している場合、必要な作業は完了しています。\n",
    "\n",
    "Visual Studio Code でこのノートを開き、[ドキュメントのこのセクション](https://code.visualstudio.com/docs/python/environments#_creating-environments) を参考にしながら、ワークスペースに Python 仮想環境を作成します。仮想環境を作成する際には、このフォルダにある `requirements.txt` を選択すると、このノートの Python アプリケーションコードの実行に必要なライブラリを Python 仮想環境にインストールすることができます。\n",
    "\n",
    "仮想環境の準備ができたら、このノートにある Python コードをステップごとに実行します。\n"
   ]
  },
  {
   "cell_type": "markdown",
   "metadata": {},
   "source": [
    "### チャットアプリのコードサンプル"
   ]
  },
  {
   "cell_type": "markdown",
   "metadata": {},
   "source": [
    "#### 1. AI プロジェクトに接続します"
   ]
  },
  {
   "cell_type": "markdown",
   "metadata": {},
   "source": [
    "[クイックスタート2](../02_simple_chat_with_prompt_template/chatprompt.ja.ipynb) で実行した手順と同様に、AI プロジェクトに接続し、SDK のトレースを有効にします。\n"
   ]
  },
  {
   "cell_type": "code",
   "execution_count": null,
   "metadata": {},
   "outputs": [],
   "source": [
    "import os\n",
    "from dotenv import load_dotenv\n",
    "from opentelemetry import trace\n",
    "from azure.ai.projects import AIProjectClient\n",
    "from azure.identity import DefaultAzureCredential\n",
    "\n",
    "tracer = trace.get_tracer(__name__)\n",
    "\n",
    "load_dotenv('.env', override=True)\n",
    "load_dotenv('.env', override=True)\n",
    "project_connection_string = os.getenv('PROJECT_CONNECTION_STRING')\n",
    "model_name_string = os.getenv('MODEL_NAME')\n",
    "\n",
    "try:\n",
    "    credential = DefaultAzureCredential()\n",
    "    print(f\"✅ Azure 資格情報の初期化が成功しました.\")\n",
    "except Exception as e:\n",
    "    print(f\"❌ Azure 資格情報の初期化が以下の理由で失敗しました: {str(e)}\")\n",
    "\n",
    "try:\n",
    "    project = AIProjectClient.from_connection_string(\n",
    "        conn_str=project_connection_string,\n",
    "        credential=credential\n",
    "    )\n",
    "    print(f\"✅ プロジェクトクライアントの初期化が成功しました.\")\n",
    "except Exception as e:\n",
    "    print(f\"❌ プロジェクトクライアントの初期化が以下の理由で失敗しました: {str(e)}\")"
   ]
  },
  {
   "cell_type": "markdown",
   "metadata": {},
   "source": [
    "以下のコードを実行して、トレースを有効にします。"
   ]
  },
  {
   "cell_type": "code",
   "execution_count": null,
   "metadata": {},
   "outputs": [],
   "source": [
    "from azure.ai.inference.tracing import AIInferenceInstrumentor\n",
    "from azure.monitor.opentelemetry import configure_azure_monitor\n",
    "from azure.monitor.opentelemetry.exporter import AzureMonitorTraceExporter\n",
    "from azure.core.settings import settings\n",
    "\n",
    "# Enable Azure SDK tracing with either of two lines:\n",
    "os.environ[\"AZURE_SDK_TRACING_IMPLEMENTATION\"] = \"opentelemetry\"\n",
    "settings.tracing_implementation = \"opentelemetry\"\n",
    "\n",
    "# Enable tracing\n",
    "AIInferenceInstrumentor().instrument()\n",
    "# enable logging message contents\n",
    "os.environ[\"AZURE_TRACING_GEN_AI_CONTENT_RECORDING_ENABLED\"] = \"true\"\n",
    "\n",
    "application_insights_connection_string = project.telemetry.get_connection_string()\n",
    "if not application_insights_connection_string:\n",
    "    print(\"❌ Application Insights がこのプロジェクトで有効になっていません.\")\n",
    "    print(\"==> Azure AI Foundry ポータルの \\\"トレース\\\"タブから、Application Inights を有効にしてください.\")\n",
    "else:\n",
    "    configure_azure_monitor(connection_string=application_insights_connection_string)\n",
    "    exporter = AzureMonitorTraceExporter(connection_string=application_insights_connection_string)\n",
    "    print(\"✅ Application Insights によるトレースを有効にしました.\")"
   ]
  },
  {
   "cell_type": "markdown",
   "metadata": {},
   "source": [
    "#### 2. エージェントのツールとして割り当てるコードインタープリターを初期化する\n"
   ]
  },
  {
   "cell_type": "markdown",
   "metadata": {},
   "source": [
    "\n",
    "[`CodeInterpreterTool`](https://learn.microsoft.com/en-us/python/api/azure-ai-projects/azure.ai.projects.models.codeinterpretertool?view=azure-python-preview) ツールを使ってエージェントを作成します。\n",
    "\n",
    "コード インタープリターにより、エージェントはサンドボックス実行環境で Python コードを記述して実行できます。\n",
    "コード インタープリターを有効にすると、エージェントはコードを繰り返し実行して、より困難なコード、数学、データ分析の問題を解決できます。 \n",
    "\n",
    "コードインタープリターの詳細については[技術ドキュメント](https://learn.microsoft.com/en-us/python/api/azure-ai-projects/azure.ai.projects.models.codeinterpretertool?view=azure-python-preview)を参照します。\n"
   ]
  },
  {
   "cell_type": "code",
   "execution_count": null,
   "metadata": {},
   "outputs": [],
   "source": [
    "from azure.ai.projects.models import CodeInterpreterTool\n",
    "code_interpreter = CodeInterpreterTool()"
   ]
  },
  {
   "cell_type": "markdown",
   "metadata": {},
   "source": [
    "#### 3. エージェントに対する指示を定義します\n"
   ]
  },
  {
   "cell_type": "markdown",
   "metadata": {},
   "source": [
    "作成するエージェントに対する指示を以下の変数で定義します。\n",
    "\n",
    "- `agent_name`: エージェントの名前\n",
    "- `agent_instructions`: エージェントに対する手順を示すシステムメッセージ\n",
    "- `message_conteent`: エージェントに最初に渡すユーザーメッセージ（テキストのみをサポート）\n",
    "\n",
    "以下の例では、\"日本人の身長と体重の平均値の BMI 値と日本人の人口全体の BMI 分布を調べ、全体分布の中の位置づけをグラフを生成して図示する\" エージェントを作成します。\n"
   ]
  },
  {
   "cell_type": "code",
   "execution_count": null,
   "metadata": {},
   "outputs": [],
   "source": [
    "agent_name = \"bmi-calculator\"\n",
    "\n",
    "agent_instructions = \"あなたは日本の測定基準 (体重 kg、身長 cm) を使用して BMI を計算する健康アナリストです。日本の平均的な身長と体重の測定値を調べてその測定値を使用します。日本人の人口全体の BMI 分布と日本人の平均 BMI が分布のどこに位置するかを示す画像を作成します。\"\n",
    "\n",
    "message_content = \"日本の平均的な身長と体重の測定値の BMI を計算します。18 から 25 までの標準 BMI とされる範囲を図示しながら、日本人の人口全体の BMI 分布と平均 BMI がどこに位置するかを示す画像を作成します。画像には標準 BMI カテゴリ (やせ、正常、肥満) を含めます。画像に含めるキャプションの言語は英語にします。\""
   ]
  },
  {
   "cell_type": "markdown",
   "metadata": {},
   "source": [
    "#### 4. エージェントを作成します\n"
   ]
  },
  {
   "cell_type": "markdown",
   "metadata": {},
   "source": [
    "Azure AI Project API を使って [エージェントの操作](https://learn.microsoft.com/en-us/python/api/azure-ai-projects/azure.ai.projects.operations.agentsoperations?view=azure-python-preview) を行います。\n",
    "\n",
    "以下のコードでは、以下の操作を行います。\n",
    "\n",
    "1. エージェントの名前、エージェントへ指示する手順、エージェントに渡すツールを指定して、エージェントの作成を行います\n",
    "1. エージェントの（会話）スレッドを作成します\n",
    "1. エージェントへのユーザー メッセージを作成します\n",
    "1. エージェントを実行する\n",
    "1. エージェントの実行結果のメッセージから取り出す\n",
    "\n",
    "作成したエージェントとスレッドは、[AI Foundry ポータル](https://ai.azure.com/) の該当するプロジェクトの [エージェント] メニューから確認することができます。\n"
   ]
  },
  {
   "cell_type": "code",
   "execution_count": null,
   "metadata": {},
   "outputs": [],
   "source": [
    "\n",
    "@tracer.start_as_current_span(\"quick_start_05: run_agent\")\n",
    "def run_agent(name, model_name, instructions, content):\n",
    "    try:\n",
    "        try:\n",
    "            # Create an agent with code interpreter\n",
    "            agent = project.agents.create_agent(\n",
    "                model=model_name,\n",
    "                name=name,\n",
    "                instructions=instructions,\n",
    "                tools=code_interpreter.definitions,\n",
    "                tool_resources=code_interpreter.resources,\n",
    "            )\n",
    "            print(f\"[{name}] ✅ エージェントを作成しました: ID: {agent.id}\")\n",
    "        except Exception as e:\n",
    "            print(f\"[{name}] ❌ エージェントの作成に失敗しました: {str(e)}\")\n",
    "            return None\n",
    "\n",
    "        # Create a thread\n",
    "        thread = project.agents.create_thread()\n",
    "        print(f\"[{name}] ✅ スレッドを作成しました: ID: {thread.id}\")\n",
    "\n",
    "        # Request BMI analysis\n",
    "        message = project.agents.create_message(thread_id=thread.id, role=\"user\", content=content,)\n",
    "        print(f\"[{name}] ✅ メッセージを作成しました: {message}\")\n",
    "\n",
    "        # Process the request\n",
    "        run = project.agents.create_and_process_run(thread_id=thread.id, assistant_id=agent.id,)\n",
    "        print(f\"[{name}] ✅ エージェントの実行が完了しました: status = {run.status}\")\n",
    "        if run.status == \"failed\":\n",
    "            print(f\"[{name}] ❌ エージェントの実行が失敗しました: {run.last_error}\")\n",
    "\n",
    "        # Get and save any visualizations\n",
    "        messages = project.agents.list_messages(thread_id=thread.id)\n",
    "        print(f\"[{name}] ✅ エージェントのメッセージ: {messages}\")\n",
    "        # Save the analysis visual to a file\n",
    "        for image_content in messages.image_contents:\n",
    "            file_name = f\"bmi_analysis_{image_content.image_file.file_id}.png\"\n",
    "            project.agents.save_file(file_id=image_content.image_file.file_id, file_name=file_name)\n",
    "            print(f\"==> 分析結果をファイルに保存しました: {file_name}\")\n",
    "\n",
    "        # Print the analysis text\n",
    "        if last_msg := messages.get_last_text_message_by_role(\"assistant\"):\n",
    "            print(f\"==> 分析の内容: {last_msg.text.value}\")\n",
    "\n",
    "        return agent\n",
    "\n",
    "    except Exception as e:\n",
    "        print(f\"[{name}] ❌ エージェント処理プロセスでエラーが発生しました: {str(e)}\")\n",
    "        return agent\n",
    "\n",
    "agent = run_agent(agent_name, model_name_string, agent_instructions, message_content)"
   ]
  },
  {
   "cell_type": "markdown",
   "metadata": {},
   "source": [
    "#### 5. エージェントを削除します\n"
   ]
  },
  {
   "cell_type": "markdown",
   "metadata": {},
   "source": [
    "作成したエージェントを削除します。\n",
    "\n",
    "作成したエージェントのスレッドも必要に応じて削除します。\n",
    "このクイックスタートでは、実行履歴となるスレッドを残しておきます。\n"
   ]
  },
  {
   "cell_type": "code",
   "execution_count": null,
   "metadata": {},
   "outputs": [],
   "source": [
    "\n",
    "@tracer.start_as_current_span(\"quick_start_05: delete_agent\")\n",
    "def delete_run_agent(agent):\n",
    "    # Cleanup\n",
    "    if agent:\n",
    "        try:\n",
    "            project.agents.delete_agent(agent.id)\n",
    "            print(f\"[{agent_name}] ✅ エージェントを削除しました.\")\n",
    "        except Exception as e:\n",
    "            print(f\"[{agent_name}] ❌ すでにエージェントは削除されています: {str(e)}\")\n",
    "\n",
    "delete_run_agent(agent)"
   ]
  }
 ],
 "metadata": {
  "kernelspec": {
   "display_name": ".venv",
   "language": "python",
   "name": "python3"
  },
  "language_info": {
   "codemirror_mode": {
    "name": "ipython",
    "version": 3
   },
   "file_extension": ".py",
   "mimetype": "text/x-python",
   "name": "python",
   "nbconvert_exporter": "python",
   "pygments_lexer": "ipython3",
   "version": "3.13.2"
  }
 },
 "nbformat": 4,
 "nbformat_minor": 2
}
